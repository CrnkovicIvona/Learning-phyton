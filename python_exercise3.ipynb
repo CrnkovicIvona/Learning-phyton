{
 "cells": [
  {
   "cell_type": "code",
   "execution_count": 1,
   "id": "ee555adf-28f5-45fb-b98a-be5647c7ca26",
   "metadata": {},
   "outputs": [
    {
     "name": "stdout",
     "output_type": "stream",
     "text": [
      "0\n",
      "1\n",
      "2\n",
      "3\n",
      "4\n"
     ]
    }
   ],
   "source": [
    "i = 0  # Inicijalizacija varijable\n",
    "\n",
    "while i < 5:  # Uvjet petlje\n",
    "    print(i)  # Blok koda koji se ponavlja\n",
    "    i += 1    # Ažuriranje varijable kako bi se petlja mogla završiti"
   ]
  },
  {
   "cell_type": "code",
   "execution_count": 2,
   "id": "279cdabd-e3e8-42f2-b26d-dc803320ff29",
   "metadata": {},
   "outputs": [
    {
     "name": "stdout",
     "output_type": "stream",
     "text": [
      "[10, 'tekst', [1, 2, 3]]\n"
     ]
    }
   ],
   "source": [
    "# Inicijalizacija prazne liste\n",
    "moja_lista = []\n",
    "\n",
    "# Dodavanje različitih tipova podataka\n",
    "moja_lista.append(10)          # Dodavanje broja\n",
    "moja_lista.append(\"tekst\")     # Dodavanje stringa\n",
    "moja_lista.append([1, 2, 3])   # Dodavanje liste\n",
    "\n",
    "# Ispisivanje liste\n",
    "print(moja_lista)\n"
   ]
  },
  {
   "cell_type": "code",
   "execution_count": 3,
   "id": "0cc44098-05b0-45e4-a495-052cb7fbf40a",
   "metadata": {},
   "outputs": [
    {
     "name": "stdout",
     "output_type": "stream",
     "text": [
      "[0, 10, 'tekst', [1, 2, 3]]\n"
     ]
    }
   ],
   "source": [
    "# Inicijalizacija prazne liste\n",
    "moja_lista = [0]\n",
    "\n",
    "# Dodavanje različitih tipova podataka\n",
    "moja_lista.append(10)          # Dodavanje broja\n",
    "moja_lista.append(\"tekst\")     # Dodavanje stringa\n",
    "moja_lista.append([1, 2, 3])   # Dodavanje liste\n",
    "\n",
    "# Ispisivanje liste\n",
    "print(moja_lista)"
   ]
  },
  {
   "cell_type": "code",
   "execution_count": 8,
   "id": "692addf1-098f-408c-b552-a2f52d3acd06",
   "metadata": {},
   "outputs": [
    {
     "name": "stdout",
     "output_type": "stream",
     "text": [
      "1\n",
      "2\n",
      "3\n",
      "4\n",
      "5\n",
      "6\n",
      "7\n",
      "8\n",
      "9\n",
      "10\n",
      "11\n",
      "12\n",
      "13\n",
      "14\n",
      "15\n",
      "16\n",
      "17\n",
      "18\n",
      "19\n",
      "20\n"
     ]
    }
   ],
   "source": [
    "# napiši program koji ispisuje prvih N prirodnih brojeva koristeći for petlju\n",
    "N=20\n",
    "for n in range(1,N+1):\n",
    "    print(n)"
   ]
  },
  {
   "cell_type": "code",
   "execution_count": 29,
   "id": "1da37ba5-6492-4660-a4b6-be91df9294ac",
   "metadata": {},
   "outputs": [
    {
     "name": "stdout",
     "output_type": "stream",
     "text": [
      "2\n",
      "4\n",
      "6\n",
      "8\n",
      "10\n",
      "12\n",
      "14\n",
      "16\n",
      "18\n",
      "20\n",
      "22\n",
      "24\n",
      "26\n",
      "28\n",
      "30\n",
      "32\n",
      "34\n",
      "36\n",
      "38\n",
      "40\n"
     ]
    }
   ],
   "source": [
    "#napiši program koji ispisuje prvih N parnih brojeva koristeći for petlju\n",
    "i=1\n",
    "N=20\n",
    "for n in range(i,N+1):\n",
    "    print(n*2)"
   ]
  },
  {
   "cell_type": "code",
   "execution_count": 40,
   "id": "fe7109ca-fd35-46ec-a94d-77eda09ea398",
   "metadata": {},
   "outputs": [
    {
     "name": "stdout",
     "output_type": "stream",
     "text": [
      "1\n",
      "3\n",
      "5\n",
      "7\n",
      "9\n",
      "11\n",
      "13\n",
      "15\n",
      "17\n",
      "19\n",
      "21\n",
      "23\n",
      "25\n",
      "27\n",
      "29\n",
      "31\n",
      "33\n",
      "35\n",
      "37\n",
      "39\n"
     ]
    }
   ],
   "source": [
    "#napiši program koji ispisuje prvih N neparnih brojeva koristeći for petlju\n",
    "i=0\n",
    "N=20\n",
    "for n in range(i,N):\n",
    "    print(2*n+1)"
   ]
  },
  {
   "cell_type": "code",
   "execution_count": 44,
   "id": "7bf0580c-2d4f-43df-a947-c13e6e240442",
   "metadata": {},
   "outputs": [
    {
     "name": "stdout",
     "output_type": "stream",
     "text": [
      "2\n",
      "4\n",
      "6\n",
      "8\n",
      "10\n",
      "12\n",
      "14\n",
      "16\n",
      "18\n",
      "20\n"
     ]
    }
   ],
   "source": [
    "#koristeći if, for petlje ispiši prvih N parnih brojeva\n",
    "i=1\n",
    "N=20\n",
    "for n in range(i,N+1):\n",
    "    if n % 2 == 0:\n",
    "        print(n)"
   ]
  },
  {
   "cell_type": "code",
   "execution_count": 50,
   "id": "2de1a134-137c-412b-b54e-9703fc600437",
   "metadata": {},
   "outputs": [
    {
     "data": {
      "text/plain": [
       "[2, 4, 6, 8, 10, 12, 14, 16, 18, 20, 2, 4, 6, 8, 10, 12, 14, 16, 18, 20]"
      ]
     },
     "execution_count": 50,
     "metadata": {},
     "output_type": "execute_result"
    }
   ],
   "source": [
    "#napiši program koji generira listu od prvih N parnih brojeva stored = []\n",
    "i=1\n",
    "N=20\n",
    "for n in range(i,N+1):\n",
    "    if n % 2 == 0:\n",
    "        stored.append(n)\n",
    "\n",
    "stored"
   ]
  },
  {
   "cell_type": "code",
   "execution_count": 57,
   "id": "3e922184-3751-4e38-a281-a7b8205b3057",
   "metadata": {},
   "outputs": [
    {
     "data": {
      "text/plain": [
       "[23414, 22332, 45454]"
      ]
     },
     "execution_count": 57,
     "metadata": {},
     "output_type": "execute_result"
    }
   ],
   "source": [
    "#program koji zadane iz liste \"data\" generira novu listu koja sadrži samo parne brojeve iz liste \"data\"\n",
    "\n",
    "stored = []\n",
    "data = [123123,23414,22332,45454,6565642535,12341]\n",
    "\n",
    "for i in data:\n",
    "    if i % 2 == 0:\n",
    "        stored.append(i)\n",
    "\n",
    "stored"
   ]
  },
  {
   "cell_type": "code",
   "execution_count": 59,
   "id": "07dc0535-2ee0-461b-85f0-be372f8d036d",
   "metadata": {},
   "outputs": [
    {
     "name": "stdout",
     "output_type": "stream",
     "text": [
      "[1112, 123332] [12321, 2233, 4431, 3445, 12113]\n"
     ]
    }
   ],
   "source": [
    "#napiši program koji iz zadane liste \"data\" generira dvije liste od kojih jedna sadrži samo parne brojeve iz \"data\", a druge neparne brojeve iz \"data\"\n",
    "\n",
    "stored1 = []\n",
    "stored2 = []\n",
    "data = [12321,2233,1112,4431,3445,12113,123332]\n",
    "\n",
    "for i in data:\n",
    "    if i % 2 == 0:\n",
    "        stored1.append(i)\n",
    "    else:\n",
    "        stored2.append(i)\n",
    "\n",
    "print(stored1,stored2)"
   ]
  },
  {
   "cell_type": "code",
   "execution_count": 64,
   "id": "69579455-1e5b-4d4f-a2f0-93829a38182d",
   "metadata": {},
   "outputs": [
    {
     "name": "stdout",
     "output_type": "stream",
     "text": [
      "nema ga\n"
     ]
    }
   ],
   "source": [
    "#zadana je nepoznata lista data za koju želimo ispitati nalazi li se u njoj nekakav podatak, ako da na kojem položaju\n",
    "data = [5,3,7,1,4,11,12,15,6,8]\n",
    "found = 0\n",
    "for i in data:\n",
    "    if i==10:\n",
    "        found += 1\n",
    "        print(\"da, nalazi se\")\n",
    "if found == 0:\n",
    "    print(\"nema ga\")"
   ]
  },
  {
   "cell_type": "code",
   "execution_count": 65,
   "id": "a123053f-a1da-4f9b-81d5-4576536e2e2a",
   "metadata": {},
   "outputs": [
    {
     "name": "stdout",
     "output_type": "stream",
     "text": [
      "nema ga\n"
     ]
    }
   ],
   "source": [
    "#zadana je nepoznata lista data za koju želimo ispitati nalazi li se u njoj nekakav podatak\n",
    "#napiši program koji provjeri nalazi se navedeni podatak u listi i ispiše koliko puta ponavalja\n",
    "data = [5,3,7,1,4,11,12,15,6]\n",
    "found = 0\n",
    "for i in data:\n",
    "    if i==10:\n",
    "        found += 1\n",
    "        print(\"da, nalazi se\")\n",
    "if found == 0:\n",
    "    print(\"nema ga\")\n",
    "else:\n",
    "    print(\"ukupan broj ponavljanja=\",found)"
   ]
  },
  {
   "cell_type": "code",
   "execution_count": 67,
   "id": "c10c374c-4315-479c-8790-f66a9b481d1c",
   "metadata": {},
   "outputs": [
    {
     "name": "stdout",
     "output_type": "stream",
     "text": [
      "9\n"
     ]
    }
   ],
   "source": [
    "#zadana je nepoznata lista data za koju želimo ispitati nalazi li se u njoj nekakav podatak\n",
    "#napiši program koji ispiše ploažaj podatka u listi\n",
    "\n",
    "data = [5,3,7,1,4,11,12,15,6,10,5,7,8,6,3,18,4]\n",
    "for i in range(len(data)): #ovo generira listu pozicija liste data\n",
    "    if data[i]==10:\n",
    "        print(i)"
   ]
  },
  {
   "cell_type": "code",
   "execution_count": 68,
   "id": "706a78a3-7703-4443-92e3-cfb2ebc397f2",
   "metadata": {},
   "outputs": [
    {
     "name": "stdout",
     "output_type": "stream",
     "text": [
      "9\n",
      "16\n"
     ]
    }
   ],
   "source": [
    "#zadana je nepoznata lista data za koju želimo ispitati nalazi li se u njoj nekakav podatak\n",
    "#napiši program koji ispiše ploažaj podatka u listi\n",
    "\n",
    "data = [5,3,7,1,4,11,12,15,6,10,5,7,8,6,3,18,10,4]\n",
    "for i in range(len(data)): #ovo generira listu pozicija liste data\n",
    "    if data[i]==10:\n",
    "        print(i)"
   ]
  },
  {
   "cell_type": "code",
   "execution_count": 69,
   "id": "37e2686a-9c57-4058-9d1b-b9e8bb1d2289",
   "metadata": {},
   "outputs": [
    {
     "data": {
      "text/plain": [
       "[3, 5]"
      ]
     },
     "execution_count": 69,
     "metadata": {},
     "output_type": "execute_result"
    }
   ],
   "source": [
    "#napiši program koji sekvencijalno (član po član) sortira elemente zadane liste od najmanjeg do najvećeg koristeći for petlju\n",
    "#poseban slučaj: lista od dva elementa\n",
    "\n",
    "data =[5,3]\n",
    "\n",
    "temp = data[1]\n",
    "data[1] = data[0]\n",
    "data[0] = temp\n",
    "\n",
    "data"
   ]
  },
  {
   "cell_type": "code",
   "execution_count": null,
   "id": "4b029742-82d9-4e03-8341-d8607f701531",
   "metadata": {},
   "outputs": [],
   "source": []
  }
 ],
 "metadata": {
  "kernelspec": {
   "display_name": "Python 3 (ipykernel)",
   "language": "python",
   "name": "python3"
  },
  "language_info": {
   "codemirror_mode": {
    "name": "ipython",
    "version": 3
   },
   "file_extension": ".py",
   "mimetype": "text/x-python",
   "name": "python",
   "nbconvert_exporter": "python",
   "pygments_lexer": "ipython3",
   "version": "3.12.4"
  }
 },
 "nbformat": 4,
 "nbformat_minor": 5
}
