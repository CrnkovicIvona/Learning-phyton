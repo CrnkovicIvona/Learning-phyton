{
 "cells": [
  {
   "cell_type": "code",
   "execution_count": 4,
   "id": "d7b2ebb1-180b-42d2-9c6c-fc76aaa4142a",
   "metadata": {},
   "outputs": [],
   "source": [
    "stored = []\n",
    "data = [123123,23414,22332,45454,6565642535,12341]"
   ]
  },
  {
   "cell_type": "code",
   "execution_count": 7,
   "id": "6949e6d3-7751-418f-ac41-c1bbbc94d4dd",
   "metadata": {},
   "outputs": [],
   "source": [
    "stored.append(data)"
   ]
  },
  {
   "cell_type": "code",
   "execution_count": 8,
   "id": "f1b7fc78-b9ee-4cd6-ad15-2b558c5f8f15",
   "metadata": {},
   "outputs": [
    {
     "data": {
      "text/plain": [
       "[[123123, 23414, 22332, 45454, 6565642535, 12341],\n",
       " [123123, 23414, 22332, 45454, 6565642535, 12341],\n",
       " [123123, 23414, 22332, 45454, 6565642535, 12341]]"
      ]
     },
     "execution_count": 8,
     "metadata": {},
     "output_type": "execute_result"
    }
   ],
   "source": [
    "stored"
   ]
  },
  {
   "cell_type": "code",
   "execution_count": 10,
   "id": "20fb1762-eb5a-4dec-a747-586df5a5db1e",
   "metadata": {},
   "outputs": [
    {
     "name": "stdout",
     "output_type": "stream",
     "text": [
      "123123\n",
      "23414\n",
      "22332\n",
      "45454\n",
      "6565642535\n",
      "12341\n"
     ]
    }
   ],
   "source": [
    "for i in data:\n",
    "    print (i)"
   ]
  },
  {
   "cell_type": "code",
   "execution_count": 11,
   "id": "b7bb9239-5793-4174-9ffa-dcb1be24534b",
   "metadata": {},
   "outputs": [
    {
     "name": "stdout",
     "output_type": "stream",
     "text": [
      "paran je\n"
     ]
    }
   ],
   "source": [
    "if 2%2 == 0:\n",
    "    print(\"paran je\")"
   ]
  },
  {
   "cell_type": "code",
   "execution_count": null,
   "id": "fe256d61-219f-46cb-b621-ceb770b0cb06",
   "metadata": {},
   "outputs": [],
   "source": []
  }
 ],
 "metadata": {
  "kernelspec": {
   "display_name": "Python 3 (ipykernel)",
   "language": "python",
   "name": "python3"
  },
  "language_info": {
   "codemirror_mode": {
    "name": "ipython",
    "version": 3
   },
   "file_extension": ".py",
   "mimetype": "text/x-python",
   "name": "python",
   "nbconvert_exporter": "python",
   "pygments_lexer": "ipython3",
   "version": "3.12.4"
  }
 },
 "nbformat": 4,
 "nbformat_minor": 5
}
