{
 "cells": [
  {
   "cell_type": "code",
   "execution_count": 7,
   "id": "fd720873-ac1c-4958-8c88-4838ac04db88",
   "metadata": {},
   "outputs": [
    {
     "name": "stdout",
     "output_type": "stream",
     "text": [
      "1 1\n",
      "1 2\n",
      "1 3\n",
      "1 4\n",
      "1 5\n",
      "2 1\n",
      "2 2\n",
      "2 3\n",
      "2 4\n",
      "2 5\n",
      "3 1\n",
      "3 2\n",
      "3 3\n",
      "3 4\n",
      "3 5\n",
      "4 1\n",
      "4 2\n",
      "4 3\n",
      "4 4\n",
      "4 5\n",
      "5 1\n",
      "5 2\n",
      "5 3\n",
      "5 4\n",
      "5 5\n"
     ]
    }
   ],
   "source": [
    "#primjer ugniježdene for petlje \n",
    "N=5\n",
    "for i in range(1,N+1):\n",
    "    for j in range(1,N+1):\n",
    "        print(i,j)"
   ]
  },
  {
   "cell_type": "code",
   "execution_count": 8,
   "id": "8280ac99-7770-423e-8a07-db6bd0e4181a",
   "metadata": {},
   "outputs": [],
   "source": [
    "a = [[\"kruška\",\"jabuka\",\"naranča\"],[\"pas\",\"mačka\",\"hrčak\"],[\"olovka\",\"gumica\",\"bilježnica\"]]"
   ]
  },
  {
   "cell_type": "code",
   "execution_count": 9,
   "id": "41930f5f-c57e-4290-9a25-45385475db30",
   "metadata": {},
   "outputs": [
    {
     "name": "stdout",
     "output_type": "stream",
     "text": [
      "['kruška', 'jabuka', 'naranča']\n"
     ]
    }
   ],
   "source": [
    "print(a[0])"
   ]
  },
  {
   "cell_type": "code",
   "execution_count": 11,
   "id": "56cead94-b6ad-4dba-b50f-575518581158",
   "metadata": {},
   "outputs": [
    {
     "name": "stdout",
     "output_type": "stream",
     "text": [
      "kruška\n"
     ]
    }
   ],
   "source": [
    "print(a[0][0])"
   ]
  },
  {
   "cell_type": "code",
   "execution_count": 12,
   "id": "00d6758c-fecf-4e8f-9b4e-ce84c71c9ceb",
   "metadata": {},
   "outputs": [
    {
     "name": "stdout",
     "output_type": "stream",
     "text": [
      "olovka\n"
     ]
    }
   ],
   "source": [
    "print(a[2][0])"
   ]
  },
  {
   "cell_type": "code",
   "execution_count": 16,
   "id": "5e32b161-e182-456a-8c75-cadf2087b725",
   "metadata": {},
   "outputs": [
    {
     "name": "stdout",
     "output_type": "stream",
     "text": [
      "kruška\n",
      "jabuka\n",
      "naranča\n",
      "pas\n",
      "mačka\n",
      "hrčak\n",
      "olovka\n",
      "gumica\n",
      "bilježnica\n"
     ]
    }
   ],
   "source": [
    "#koristeći nested for petlje ispiši sve podatke iz dvodimenzionalnog polja\n",
    "a = [[\"kruška\",\"jabuka\",\"naranča\"],[\"pas\",\"mačka\",\"hrčak\"],[\"olovka\",\"gumica\",\"bilježnica\"]]\n",
    "\n",
    "for i in a:\n",
    " for j in i:\n",
    "    print(j)"
   ]
  },
  {
   "cell_type": "code",
   "execution_count": 18,
   "id": "08122a16-1c37-4092-bcee-4e134aa9fd3c",
   "metadata": {},
   "outputs": [
    {
     "name": "stdout",
     "output_type": "stream",
     "text": [
      "0 0 kruška\n",
      "0 1 jabuka\n",
      "0 2 naranča\n",
      "1 0 pas\n",
      "1 1 mačka\n",
      "1 2 hrčak\n",
      "2 0 olovka\n",
      "2 1 gumica\n",
      "2 2 bilježnica\n"
     ]
    }
   ],
   "source": [
    "#koristeći nested for petlje ispiši podatke iz dvodimenzionalnog polja s pripadajućim indeksima\n",
    "#indeksi i od polja a su i=0,1,2, ..., len(a)-1\n",
    "a = [[\"kruška\",\"jabuka\",\"naranča\"],[\"pas\",\"mačka\",\"hrčak\"],[\"olovka\",\"gumica\",\"bilježnica\"]]\n",
    "for i in range(len(a)):\n",
    "    for j in range(len(a)):\n",
    "        print(i,j,a[i][j])"
   ]
  },
  {
   "cell_type": "code",
   "execution_count": 19,
   "id": "47455249-020a-4a64-8158-766f010bc2a9",
   "metadata": {},
   "outputs": [
    {
     "ename": "SyntaxError",
     "evalue": "invalid syntax (1680784856.py, line 3)",
     "output_type": "error",
     "traceback": [
      "\u001b[1;36m  Cell \u001b[1;32mIn[19], line 3\u001b[1;36m\u001b[0m\n\u001b[1;33m    temp =\u001b[0m\n\u001b[1;37m           ^\u001b[0m\n\u001b[1;31mSyntaxError\u001b[0m\u001b[1;31m:\u001b[0m invalid syntax\n"
     ]
    }
   ],
   "source": [
    "#pseudo kod za sortiranje liste brojeva\n",
    "data = [1,5,6,2,3,4]\n",
    "temp = \n",
    "for i in range(0, len(data))\n",
    " for \n",
    "    if i < else\n",
    "    "
   ]
  },
  {
   "cell_type": "code",
   "execution_count": 20,
   "id": "2ed80aa2-15ac-48bb-bfd0-b358dc6a14e6",
   "metadata": {},
   "outputs": [
    {
     "data": {
      "text/plain": [
       "[1, 2, 3, 4, 5]"
      ]
     },
     "execution_count": 20,
     "metadata": {},
     "output_type": "execute_result"
    }
   ],
   "source": [
    "data =[3,2,1,4,5]\n",
    "for i in range(len(data)):\n",
    "    for j in range(i+1,len(data)):\n",
    "        if data[i] > data[j]:\n",
    "            temp = data[i]\n",
    "            data[i]=data[j]\n",
    "            data[j]=temp\n",
    "data"
   ]
  },
  {
   "cell_type": "code",
   "execution_count": 21,
   "id": "9881d29f-de00-4fbe-b303-d731e0860f55",
   "metadata": {},
   "outputs": [
    {
     "data": {
      "text/plain": [
       "[1, 2, 3, 4, 5]"
      ]
     },
     "execution_count": 21,
     "metadata": {},
     "output_type": "execute_result"
    }
   ],
   "source": [
    "data =[3,2,1,4,5]\n",
    "for i in range(len(data)-1):\n",
    "    for j in range(i+1,len(data)):\n",
    "        if data[i] > data[j]:\n",
    "            temp = data[i]\n",
    "            data[i]=data[j]\n",
    "            data[j]=temp\n",
    "data"
   ]
  },
  {
   "cell_type": "code",
   "execution_count": 1,
   "id": "270c2be9-6abb-45d9-890b-3e35fbcd8272",
   "metadata": {},
   "outputs": [
    {
     "name": "stdout",
     "output_type": "stream",
     "text": [
      "Najmanji element u listi je: 1\n"
     ]
    }
   ],
   "source": [
    "#za proizvoljno zadano polje brojeva napiši program koji nalazi najmanji element toga polja\n",
    "\n",
    "#zadana lista brojeva\n",
    "list =[3,2,1,6565,4,4,5,565]\n",
    "\n",
    "#pretpostavka da je prvi najmanji\n",
    "najmanji = list[0]\n",
    "\n",
    "#prođi kroz sve elemente u listi\n",
    "for broj in list:\n",
    "\n",
    "# Ako je trenutni broj manji od najmanjeg, ažuriraj najmanji\n",
    "    if broj < najmanji:\n",
    "        najmanji = broj\n",
    "\n",
    "print(f\"Najmanji element u listi je: {najmanji}\")"
   ]
  },
  {
   "cell_type": "code",
   "execution_count": 22,
   "id": "cf13f10b-80a4-46d7-98e1-98c70115a172",
   "metadata": {},
   "outputs": [
    {
     "name": "stdout",
     "output_type": "stream",
     "text": [
      "Najveći element u listi je: 6565\n",
      "Pozicija najvećeg elementa u listi je: 3\n"
     ]
    }
   ],
   "source": [
    "#za proizvoljno zadano polje brojeva napiši program koji nalazi najveći element toga polja i da ti vrati poziciju tog elementa\n",
    "\n",
    "#zadana lista brojeva\n",
    "list =[3,2,1,6565,4,4,5,565]\n",
    "\n",
    "#pretpostavka da je prvi najveći\n",
    "najveći = list[0]\n",
    "\n",
    "#prođi kroz sve elemente u listi\n",
    "for broj in list:\n",
    "\n",
    "# Ako je trenutni broj veći od najveći, ažuriraj najveći\n",
    "    if broj > najveći:\n",
    "        najveći = broj\n",
    "\n",
    "print(f\"Najveći element u listi je: {najveći}\")\n",
    "\n",
    "for pozicija in range(len(list)): #ovo generira listu pozicija liste\n",
    "    if list[pozicija]==najveći:\n",
    "        print(f\"Pozicija najvećeg elementa u listi je: {pozicija}\")\n"
   ]
  }
 ],
 "metadata": {
  "kernelspec": {
   "display_name": "Python 3 (ipykernel)",
   "language": "python",
   "name": "python3"
  },
  "language_info": {
   "codemirror_mode": {
    "name": "ipython",
    "version": 3
   },
   "file_extension": ".py",
   "mimetype": "text/x-python",
   "name": "python",
   "nbconvert_exporter": "python",
   "pygments_lexer": "ipython3",
   "version": "3.12.4"
  }
 },
 "nbformat": 4,
 "nbformat_minor": 5
}
